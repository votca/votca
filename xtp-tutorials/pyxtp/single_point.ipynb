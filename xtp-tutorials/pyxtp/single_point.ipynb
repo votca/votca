{
 "cells": [
  {
   "cell_type": "markdown",
   "metadata": {},
   "source": [
    "# Single Point Energy using `pyxtp`\n",
    "\n",
    "## What this tutorial is about \n",
    "\n",
    "In this tutrial we will learn how to setup a simple single point calculation using the pyton interface to `XTP`, i.e. `pyxtp` and the Atomistic Simulation Environment (ASE). Let's first import the relevant modules:"
   ]
  },
  {
   "cell_type": "code",
   "execution_count": null,
   "metadata": {},
   "outputs": [],
   "source": [
    "from pyxtp import xtp, Visualization\n",
    "from ase import Atoms"
   ]
  },
  {
   "cell_type": "markdown",
   "metadata": {},
   "source": [
    "##  Define the molecular structure \n",
    "\n",
    "The python interface is built to leverage the ASE molecular structure classes `Atoms` and `Molecule`. Therefore we cam simply define the atomistic structure we want to use via the ASE native functionalities. Let's for example define a `CO` molecule using the `Atoms` ASE class "
   ]
  },
  {
   "cell_type": "code",
   "execution_count": null,
   "metadata": {},
   "outputs": [],
   "source": [
    "atoms = Atoms('CO', positions=([0,0,0],[1.4,0,0]))"
   ]
  },
  {
   "cell_type": "markdown",
   "metadata": {},
   "source": [
    "## Instantiate the `xtp` calculator\n",
    "\n",
    "ASE works with so-called calculators that handle the ab-initio calculation. Many quantum chemistry packages have their own dedicated calculators (see the exhaustive list here: https://wiki.fysik.dtu.dk/ase/ase/calculators/calculators.html). 'pyxtp' is nothing more than a dedicated ASE calculator for XTP. It can therefore be used as any other calculator. \n",
    "\n",
    "We first need to instantiate the calcultor. Here we use `nthreads=2` to indicate to the calculator to use two threads to perform the calculation. "
   ]
  },
  {
   "cell_type": "code",
   "execution_count": null,
   "metadata": {},
   "outputs": [],
   "source": [
    "calc = xtp(nthreads=2)"
   ]
  },
  {
   "cell_type": "markdown",
   "metadata": {},
   "source": [
    "## Configure the `xtp` calculator\n",
    "\n",
    "The `xtp` calculator comes with many options. Those options are precisely those that can be accessed through the different XML files that are used to configure the `dftgwbse` tools of `XTP`. A summary of those options can be found here: https://www.votca.org/xtp/dftgwbse.html. These options can be easily navigated through the `calc.options` and using the autocomplete (tab) functionality. Let's for example change the basis set and auxilliary basis set of the calculations."
   ]
  },
  {
   "cell_type": "code",
   "execution_count": null,
   "metadata": {},
   "outputs": [],
   "source": [
    "calc.options.dftpackage.basisset = 'def2-svp'\n",
    "calc.options.dftpackage.auxbasisset = 'aux-def2-svp'"
   ]
  },
  {
   "cell_type": "markdown",
   "metadata": {},
   "source": [
    "We can also give redirect all the logging output to a dedicated file"
   ]
  },
  {
   "cell_type": "code",
   "execution_count": null,
   "metadata": {},
   "outputs": [],
   "source": [
    "calc.options.logging_file = 'CO_energy.log'"
   ]
  },
  {
   "cell_type": "markdown",
   "metadata": {},
   "source": [
    "## Run the calcuation\n",
    "\n",
    "As for any ASE calculator, the `xtp` calculator must be attached to the molecular structure. To do that we simply need to assign our `xtp` calculator to the `calc` attribute of or molecular structure"
   ]
  },
  {
   "cell_type": "code",
   "execution_count": null,
   "metadata": {},
   "outputs": [],
   "source": [
    "atoms.calc = calc"
   ]
  },
  {
   "cell_type": "markdown",
   "metadata": {},
   "source": [
    "To run the calculation we can simply call the `.get_potential_energy()` of the molecular structure, and all the rest will be done automatically"
   ]
  },
  {
   "cell_type": "code",
   "execution_count": null,
   "metadata": {},
   "outputs": [],
   "source": [
    "atoms.get_potential_energy()"
   ]
  },
  {
   "cell_type": "markdown",
   "metadata": {},
   "source": [
    "## Visualize the results\n",
    "\n",
    "Several visualisations are directly provided by `pyxtp`. It is for example possible to directly plot the absorption spectrum of the molecular structure assuming a Gaussian broadening of the peaks"
   ]
  },
  {
   "cell_type": "code",
   "execution_count": null,
   "metadata": {},
   "outputs": [],
   "source": [
    "viz = Visualization(atoms, save_figure=True)\n",
    "viz.plot_absorption_gaussian()"
   ]
  }
 ],
 "metadata": {
  "kernelspec": {
   "display_name": "votca_test",
   "language": "python",
   "name": "python3"
  },
  "language_info": {
   "codemirror_mode": {
    "name": "ipython",
    "version": 3
   },
   "file_extension": ".py",
   "mimetype": "text/x-python",
   "name": "python",
   "nbconvert_exporter": "python",
   "pygments_lexer": "ipython3",
   "version": "3.10.0"
  }
 },
 "nbformat": 4,
 "nbformat_minor": 2
}
