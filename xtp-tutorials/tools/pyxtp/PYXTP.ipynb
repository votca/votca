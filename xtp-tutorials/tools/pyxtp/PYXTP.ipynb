{
 "cells": [
  {
   "attachments": {},
   "cell_type": "markdown",
   "metadata": {},
   "source": [
    "# Using the ASE interface of XTP"
   ]
  },
  {
   "cell_type": "markdown",
   "metadata": {},
   "source": [
    "## Introduction"
   ]
  },
  {
   "cell_type": "markdown",
   "metadata": {},
   "source": [
    "This tutorial explains how to perform calculation to predict electronic excitation using the **GWBSE** method. See [the GW Compendium: A Practical Guide to Theoretical Photoemission Spectroscopy](https://doi.org/10.3389/fchem.2019.00377), for an excellent introduction to the method."
   ]
  },
  {
   "attachments": {},
   "cell_type": "markdown",
   "metadata": {},
   "source": [
    "## Requirements\n",
    "* You will need to install **VOTCA** using the instructions described [here](https://github.com/votca/votca/blob/master/share/sphinx/INSTALL.rst)\n",
    "* Once the installation is completed you need to activate the VOTCA enviroment by running the `VOTCARC.bash` script that has been installed at the bin subfolder for the path that you have provided for the installation step above\n",
    "* You need to make sure that the `pyxtp` python module is accessible in your environment"
   ]
  },
  {
   "attachments": {},
   "cell_type": "markdown",
   "metadata": {},
   "source": [
    "## DFT + GWBSE Calculation of CH4\n",
    "To run a DFT-GWBSE calculation we will use the python binding to the [xtp_tools](https://www.votca.org/xtp/xtp_tools_overview.html) calculator. We will use this calculator together with the `Atoms` class provided by ASE "
   ]
  },
  {
   "cell_type": "code",
   "execution_count": null,
   "metadata": {},
   "outputs": [],
   "source": [
    "from ase import Atoms\n",
    "from pyxtp import xtp"
   ]
  },
  {
   "attachments": {},
   "cell_type": "markdown",
   "metadata": {},
   "source": [
    "The ASE interface allows to quickly create a CH4 through the library of commonly used molecule. We can then simply define and attach the `xtp` calculator to it. Many options can be passed during the creation of the `xtp` calculator. We here simply specify the number of threads that will be used by the calculator"
   ]
  },
  {
   "cell_type": "code",
   "execution_count": null,
   "metadata": {},
   "outputs": [],
   "source": [
    "atoms = Atoms('CH4')\n",
    "calc = xtp(nthreads=2)\n",
    "atoms.calc = calc"
   ]
  },
  {
   "attachments": {},
   "cell_type": "markdown",
   "metadata": {},
   "source": [
    "### Running a calculation with the default options\n",
    "To run a DFT-GWBSE calculation using the default options of XTP we can simply ask the calculator to compute for example the potential energy of the system"
   ]
  },
  {
   "cell_type": "code",
   "execution_count": null,
   "metadata": {},
   "outputs": [],
   "source": [
    "atoms.get_potential_energy()"
   ]
  },
  {
   "attachments": {},
   "cell_type": "markdown",
   "metadata": {},
   "source": [
    "The previous command will run the DFT-GWBSE calculation using the aforementioned defaults. The results are store in the *Current Work Directory* in a file named `methane_summary.xml`. The results are also directly stored in the `atoms` object in a dictionnary that can be accessed via:"
   ]
  },
  {
   "cell_type": "code",
   "execution_count": null,
   "metadata": {},
   "outputs": [],
   "source": [
    "print(atoms.results)"
   ]
  },
  {
   "attachments": {},
   "cell_type": "markdown",
   "metadata": {},
   "source": [
    "### Modifying the input options\n",
    "The options of the calculations are specified in a data structure of the calculator called `options`. This data structure is a simple representation of the several XML files that are required to run XTP through the command line interface. You can navigate the data strucrure with its autocomplete functionality, i.e. by pressing the `tab` key. By default the value of these options is set to an empty string, e.g."
   ]
  },
  {
   "cell_type": "code",
   "execution_count": null,
   "metadata": {},
   "outputs": [],
   "source": [
    "atoms.calc.options.dftpackage.basisset"
   ]
  },
  {
   "attachments": {},
   "cell_type": "markdown",
   "metadata": {},
   "source": [
    "If leave as is, each option will be set to its default value before the calculation. A new value can easily be assigned to each option, for example to change to the basis set an the functional of the DFT calculation one can do:"
   ]
  },
  {
   "cell_type": "code",
   "execution_count": null,
   "metadata": {},
   "outputs": [],
   "source": [
    "atoms.calc.options.dftpackage.basisset = 'def2-svp'\n",
    "atoms.calc.options.dftpackage.functional = 'PBE'"
   ]
  },
  {
   "attachments": {},
   "cell_type": "markdown",
   "metadata": {},
   "source": [
    "The help function can be used to obtain information regarding the different structures within the options. For example"
   ]
  },
  {
   "cell_type": "code",
   "execution_count": null,
   "metadata": {},
   "outputs": [],
   "source": [
    "print(help(atoms.calc.options.dftpackage))"
   ]
  },
  {
   "attachments": {},
   "cell_type": "markdown",
   "metadata": {},
   "source": [
    "Frequently used options can also be set when creating the calculator. This is the case of the basis set, XC functional and charge. Hence the creating a specific `xtp` calculator via:"
   ]
  },
  {
   "cell_type": "code",
   "execution_count": null,
   "metadata": {},
   "outputs": [],
   "source": [
    "calc = xtp(basis='def2-svp', xc='PBE', charge=1)"
   ]
  },
  {
   "attachments": {},
   "cell_type": "markdown",
   "metadata": {},
   "source": [
    "will create a calculator using this particular values of the basis set, functional and charge on the molecule.\n",
    "\n",
    "Once the options are set the calculation can be run as before:"
   ]
  },
  {
   "cell_type": "code",
   "execution_count": null,
   "metadata": {},
   "outputs": [],
   "source": [
    "atoms.get_potential_energy()"
   ]
  },
  {
   "attachments": {},
   "cell_type": "markdown",
   "metadata": {},
   "source": [
    "### Logging file\n",
    "By default the log of the calculation is printed on screen. The log file can be redirected to a dedicated file via the option `options.logging_file`, as in:"
   ]
  },
  {
   "cell_type": "code",
   "execution_count": null,
   "metadata": {},
   "outputs": [],
   "source": [
    "atoms.calc.options.logging_file = 'CH4.log'"
   ]
  },
  {
   "attachments": {},
   "cell_type": "markdown",
   "metadata": {},
   "source": [
    "### Visualizing the results\n",
    "The results of the calculation can be easily visualized via the `Visualization` class of the `pyxtp` module. For example to plot the absopriton spectrum of the molecule one can use: "
   ]
  },
  {
   "cell_type": "code",
   "execution_count": null,
   "metadata": {},
   "outputs": [],
   "source": [
    "from pyxtp import Visualization\n",
    "viz = Visualization(atoms, save_figure=False)\n",
    "viz.plot_absorption_gaussian()"
   ]
  },
  {
   "attachments": {},
   "cell_type": "markdown",
   "metadata": {},
   "source": [
    "One can also visualize the quasi particule correction energy via"
   ]
  },
  {
   "cell_type": "code",
   "execution_count": null,
   "metadata": {},
   "outputs": [],
   "source": [
    "viz.plot_qp_corrections()"
   ]
  },
  {
   "attachments": {},
   "cell_type": "markdown",
   "metadata": {},
   "source": [
    "## Geometry Optimization\n",
    "The geometry of the molecule can be optimized using either the native functionalities of `XTP` or using `ASE`."
   ]
  },
  {
   "attachments": {},
   "cell_type": "markdown",
   "metadata": {},
   "source": [
    "### ASE optimizers\n",
    "Having a dedicated `ASE` calculator allows to leverage the possibilities offered by the `ASE` ecosystem. For example the geometry optimization of the carbon monoxyde molecule can be done following:  "
   ]
  },
  {
   "cell_type": "code",
   "execution_count": null,
   "metadata": {},
   "outputs": [],
   "source": [
    "from pyxtp import xtp\n",
    "from ase.io import write\n",
    "from ase.build import molecule\n",
    "from ase.optimize import QuasiNewton\n",
    "\n",
    "atoms = molecule('CO')\n",
    "atoms.rattle()\n",
    "\n",
    "calc = xtp(nthreads=2)\n",
    "calc.select_force(energy='singlets', level=0, dynamic=False)\n",
    "atoms.calc = calc\n",
    "\n",
    "dyn = QuasiNewton(atoms, trajectory='test.traj')\n",
    "dyn.run(fmax=0.01)\n",
    "write('final.xyz', atoms)"
   ]
  },
  {
   "attachments": {},
   "cell_type": "markdown",
   "metadata": {},
   "source": [
    "This allows to optimize the geometry to minimize the energy of the lowest singlet state. This is done here via the `select_force` method of the `xtp` calculator. The final geometry is stored in the `final.xyz` file."
   ]
  },
  {
   "attachments": {},
   "cell_type": "markdown",
   "metadata": {},
   "source": [
    "### Native XTP optimizer\n",
    "XTP is equiped with its own geometry optimization that can be activated by setting any of the fields relative to geometry optimization in the `options` data structure.  "
   ]
  },
  {
   "cell_type": "code",
   "execution_count": null,
   "metadata": {},
   "outputs": [],
   "source": [
    "from pyxtp import xtp\n",
    "from ase.build import molecule\n",
    "\n",
    "atoms = molecule('CO')\n",
    "atoms.rattle()\n",
    "\n",
    "calc = xtp(nthreads=2)\n",
    "calc.options.geometry_optimization.state = 's1'\n",
    "calc.options.geometry_optimization.maxiter = 1\n",
    "\n",
    "atoms.calc = calc\n",
    "atoms.calc.calculate()"
   ]
  }
 ],
 "metadata": {
  "kernelspec": {
   "display_name": "votca2",
   "language": "python",
   "name": "python3"
  },
  "language_info": {
   "codemirror_mode": {
    "name": "ipython",
    "version": 3
   },
   "file_extension": ".py",
   "mimetype": "text/x-python",
   "name": "python",
   "nbconvert_exporter": "python",
   "pygments_lexer": "ipython3",
   "version": "3.10.0"
  },
  "vscode": {
   "interpreter": {
    "hash": "2e7e4c2b3a31bc2757806c35e672534886811fc4a560cdb8c4d594715bae741d"
   }
  }
 },
 "nbformat": 4,
 "nbformat_minor": 4
}
